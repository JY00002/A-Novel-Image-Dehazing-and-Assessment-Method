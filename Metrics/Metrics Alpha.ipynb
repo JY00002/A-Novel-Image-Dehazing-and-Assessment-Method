{
 "cells": [
  {
   "cell_type": "code",
   "execution_count": 15,
   "metadata": {
    "collapsed": false
   },
   "outputs": [],
   "source": [
    "import numpy as np;\n",
    "import cv2 ;"
   ]
  },
  {
   "cell_type": "code",
   "execution_count": 16,
   "metadata": {
    "collapsed": false
   },
   "outputs": [],
   "source": [
    "def DarkChannel(Image,Size):\n",
    "    \n",
    "    #Slitting Image into R,G,B channels. Remember that open consider images channel to be in order of B,G,R and not in RGB.\n",
    "    #So whenever you input an image using opencv, your image will be in format BGR.\n",
    "    b,g,r = cv2.split(Image)\n",
    "    \n",
    "    #Taking the minimum of each channel. 1st step of dark channel.\n",
    "    Min_Channel = cv2.min(cv2.min(r,g),b);\n",
    "    \n",
    "    #Preparing window and appling min window operation for each pixel in the minimum channel of input image. \n",
    "    #2nd step of dark channel\n",
    "    Window = cv2.getStructuringElement(cv2.MORPH_RECT,(Size,Size))\n",
    "    DC = cv2.erode(Min_Channel,Window)\n",
    "    \n",
    "    #return dark channel\n",
    "    return DC   "
   ]
  },
  {
   "cell_type": "code",
   "execution_count": 17,
   "metadata": {
    "collapsed": false
   },
   "outputs": [
    {
     "name": "stdout",
     "output_type": "stream",
     "text": [
      "0.07724788499805009\n",
      "0.1587735099104608\n",
      "0.05184148185912821\n",
      "0.05971307826438161\n",
      "0.06642056973772582\n",
      "0.09548090753556324\n",
      "0.10665479308710955\n",
      "0.11647746677711575\n",
      "0.07161076880686916\n"
     ]
    }
   ],
   "source": [
    "# Here,\n",
    "# I is the input hazy image.\n",
    "\n",
    "# J is the recovered non-hazy image.\n",
    "\n",
    "# and alpha is the metrics which access the amount of haze removed.\n",
    "\n",
    "for i in range(1,10): \n",
    "    n=str(i)\n",
    "    \n",
    "    #input image with pixel values ranging from 0-255.\n",
    "    src = cv2.imread('Metrics Images/ours//'+n+'I.jpg',1)\n",
    "    \n",
    "    #converting the input image in range 0-1, i.e in a unit color cube.\n",
    "    I = src.astype(np.float64)/255;\n",
    "\n",
    "    src = cv2.imread('Metrics Images/ours//'+n+'J.jpg',1)\n",
    "    J = src.astype(np.float64)/255;\n",
    "\n",
    "    patchSz = 15\n",
    "\n",
    "    dcI  = DarkChannel(I,patchSz)\n",
    "\n",
    "    dcJ  = DarkChannel(J,patchSz)\n",
    "\n",
    "    alpha = ( (dcI-dcJ)*(dcI-dcJ) ).mean()\n",
    "    print(alpha)\n"
   ]
  },
  {
   "cell_type": "code",
   "execution_count": null,
   "metadata": {
    "collapsed": true
   },
   "outputs": [],
   "source": []
  },
  {
   "cell_type": "code",
   "execution_count": null,
   "metadata": {
    "collapsed": true
   },
   "outputs": [],
   "source": []
  }
 ],
 "metadata": {
  "kernelspec": {
   "display_name": "Python 3",
   "language": "python",
   "name": "python3"
  },
  "language_info": {
   "codemirror_mode": {
    "name": "ipython",
    "version": 3
   },
   "file_extension": ".py",
   "mimetype": "text/x-python",
   "name": "python",
   "nbconvert_exporter": "python",
   "pygments_lexer": "ipython3",
   "version": "3.6.0"
  }
 },
 "nbformat": 4,
 "nbformat_minor": 2
}
