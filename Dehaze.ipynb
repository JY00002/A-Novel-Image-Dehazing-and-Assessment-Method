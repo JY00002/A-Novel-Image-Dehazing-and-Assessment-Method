{
 "cells": [
  {
   "cell_type": "code",
   "execution_count": 2,
   "metadata": {
    "collapsed": true
   },
   "outputs": [],
   "source": [
    "import numpy as np;\n",
    "import cv2 ;\n",
    "import math"
   ]
  },
  {
   "cell_type": "code",
   "execution_count": 13,
   "metadata": {
    "collapsed": true
   },
   "outputs": [],
   "source": [
    "def Guidedfilter(Image ,p ,r ,Epsilon):\n",
    "    I_mean = cv2.boxFilter(Image,cv2.CV_64F,(r,r));\n",
    "    p_mean = cv2.boxFilter(p, cv2.CV_64F,(r,r));\n",
    "    Ip_mean = cv2.boxFilter(Image*p,cv2.CV_64F,(r,r));\n",
    "    Ip_cov = Ip_mean - I_mean*p_mean;\n",
    "\n",
    "    II_mean = cv2.boxFilter(Image*Image,cv2.CV_64F,(r,r));\n",
    "    I_var   = II_mean - I_mean*I_mean;\n",
    "\n",
    "    a = Ip_cov/(I_var + Epsilon);\n",
    "    b = p_mean - a*I_mean;\n",
    "\n",
    "    a_mean = cv2.boxFilter(a,cv2.CV_64F,(r,r));\n",
    "    b_mean = cv2.boxFilter(b,cv2.CV_64F,(r,r));\n",
    "\n",
    "    q = a_mean*Image + b_mean;\n",
    "    return q;\n",
    "\n",
    "    \n",
    "def DarkChannel(Image,Size):\n",
    "    \n",
    "    #Slitting Image into R,G,B channels. Remember that open consider images channel to be in order of B,G,R and not in RGB.\n",
    "    #So whenever you input an image using opencv, your image will be in format BGR.\n",
    "    b,g,r = cv2.split(Image)\n",
    "    \n",
    "    #Taking the minimum of each channel. 1st step of dark channel.\n",
    "    Min_Channel = cv2.min(cv2.min(r,g),b);\n",
    "    \n",
    "    #Preparing window and appling min window operation for each pixel in the minimum channel of input image. \n",
    "    #2nd step of dark channel\n",
    "    Window = cv2.getStructuringElement(cv2.MORPH_RECT,(Size,Size))\n",
    "    DC = cv2.erode(Min_Channel,Window)\n",
    "    \n",
    "    #return dark channel\n",
    "    return DC   \n",
    "\n",
    "def TransmissionRefine(Image,et):\n",
    "    gray = cv2.cvtColor(Image,cv2.COLOR_BGR2GRAY);\n",
    "    gray = np.float64(gray)/255;\n",
    "    r = 60;    # initially 60\n",
    "    eps = 0.0001; # initially 0.0001\n",
    "    t = Guidedfilter(gray,et,r,eps);\n",
    "\n",
    "    return t;"
   ]
  },
  {
   "cell_type": "code",
   "execution_count": 25,
   "metadata": {
    "collapsed": false
   },
   "outputs": [],
   "source": [
    "#change the value of 'n' from 1 to 10 to load different images.\n",
    "n='10'\n",
    "src = cv2.imread('Results//'+n+'.jpg',1)\n",
    "I = src.astype(np.float64)/255;\n",
    "sz = 9\n",
    "\n",
    "dc = cv2.min(cv2.min(I[:,:,0],I[:,:,1]),I[:,:,2])\n",
    "\n",
    "b,g,r = cv2.split(I) \n",
    "Im = ((b + g + r)/3)\n",
    "dark =  Im + (Im.mean() - dc.mean() )\n",
    "A = dark\n",
    "\n",
    "kernel = np.ones((sz,sz),np.float32)/(sz*sz)\n",
    "A = cv2.filter2D(A,-1,kernel)\n",
    "\n",
    "A = TransmissionRefine(src,A);\n",
    "\n",
    "\n",
    "A = cv2.min(A,0.8)\n",
    "temp = np.zeros(I.shape,I.dtype)\n",
    "temp[:,:,0] = (I[:,:,0]/A)\n",
    "temp[:,:,1] = (I[:,:,1]/A)\n",
    "temp[:,:,2] = (I[:,:,2]/A)\n",
    "\n",
    "\n",
    "dc = cv2.min(cv2.min(temp[:,:,0] ,temp[:,:,1]),temp[:,:,2]) \n",
    "\n",
    "mean = (temp[:,:,0] +temp[:,:,1] +temp[:,:,2])/3\n",
    "meanI = (b+g+r)/3\n",
    "dark = cv2.min(cv2.min(I[:,:,0],I[:,:,1]),I[:,:,2])\n",
    "beta = meanI - dark\n",
    "\n",
    "t = (1 - 0.95*(dc))/(1-beta)"
   ]
  },
  {
   "cell_type": "code",
   "execution_count": 26,
   "metadata": {
    "collapsed": true
   },
   "outputs": [],
   "source": [
    "t = cv2.max(t,0.1)\n",
    "J = np.zeros(I.shape,I.dtype)\n",
    "for ind in range(0,3):\n",
    "    J[:,:,ind] = (I[:,:,ind]-A)/(t)  + (A)"
   ]
  },
  {
   "cell_type": "code",
   "execution_count": 27,
   "metadata": {
    "collapsed": true
   },
   "outputs": [],
   "source": [
    "cv2.imshow('J',J)\n",
    "cv2.imshow('A',A)\n",
    "cv2.imshow('I',I)\n",
    "cv2.imshow('t',t)\n",
    "\n",
    "cv2.imwrite('J.jpg',J*255)\n",
    "cv2.imwrite('A.jpg',A*255)\n",
    "cv2.imwrite('t.jpg',t*255)\n",
    "cv2.imwrite('I.jpg',I*255)\n",
    "\n",
    "cv2.waitKey()\n",
    "cv2.destroyAllWindows()"
   ]
  },
  {
   "cell_type": "code",
   "execution_count": null,
   "metadata": {
    "collapsed": true
   },
   "outputs": [],
   "source": []
  }
 ],
 "metadata": {
  "kernelspec": {
   "display_name": "Python 3",
   "language": "python",
   "name": "python3"
  }
 },
 "nbformat": 4,
 "nbformat_minor": 2
}
